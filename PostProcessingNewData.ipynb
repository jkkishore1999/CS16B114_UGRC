{
 "cells": [
  {
   "cell_type": "code",
   "execution_count": 1,
   "metadata": {},
   "outputs": [],
   "source": [
    "import numpy as np\n",
    "import matplotlib.pyplot as plt\n",
    "from numpy import linalg as LA\n",
    "import scipy.stats as stat\n",
    "#from sklearn.metrics import accuracy_score\n",
    "from sklearn.linear_model import LogisticRegression\n",
    "from sklearn.isotonic import IsotonicRegression\n"
   ]
  },
  {
   "cell_type": "code",
   "execution_count": 2,
   "metadata": {},
   "outputs": [
    {
     "name": "stdout",
     "output_type": "stream",
     "text": [
      "[2. 2. 2. 2. 2. 2. 2. 2. 2. 2. 2. 2. 2. 2. 2. 2. 2. 2. 2. 2. 2. 2. 2. 2.\n",
      " 2. 2. 2. 2. 2. 2. 2. 2. 2. 2. 2. 2. 2. 2. 2. 2. 2. 2. 2. 2. 2. 2. 2. 2.\n",
      " 2. 2. 2. 2. 2. 2. 2. 2. 2. 2. 2. 2. 2. 2. 2. 2.]\n",
      "(7, 100, 64)\n",
      "[ 1  1 -1 ...  1  1 -1]\n",
      "(7, 5000)\n",
      "46\n",
      "[[0 1 0 1 0 0 1 0 0 1 1 1 1 0 0 0 1 1 0 0 0 0 0 0 1 0 0 0 1 0 0 1 0 0 0 0\n",
      "  0 0 1 0 0 1 1 1 0 1 0 1 0 0 1 1 1 0 1 0 1 1 1 0 0 0 1 1 1 0 0 1 0 0 1 0\n",
      "  0 1 1 0 0 1 1 0 1 0 0 1 1 0 0 0 1 1 1 1 1 0 0 1 1 1 0 1]\n",
      " [1 0 0 1 0 1 0 1 1 0 0 0 1 1 0 1 0 0 0 0 1 1 0 1 0 0 1 1 0 0 0 1 0 0 0 0\n",
      "  0 1 1 1 0 1 1 1 0 0 1 0 0 0 1 1 1 1 1 0 1 0 0 0 1 0 0 1 0 1 0 1 0 0 0 0\n",
      "  1 1 0 1 0 1 1 0 0 1 1 1 0 0 0 0 1 1 0 0 0 0 1 0 1 0 1 1]\n",
      " [1 0 0 0 0 1 0 1 0 1 0 0 1 0 0 0 0 0 1 1 0 1 1 1 0 0 0 1 0 1 1 1 0 1 1 1\n",
      "  0 0 1 1 1 0 0 0 1 1 1 1 0 1 1 0 0 0 1 0 1 1 0 0 0 1 1 1 1 1 1 1 1 0 0 0\n",
      "  0 0 0 1 0 0 0 1 1 1 1 1 0 0 1 0 1 1 0 0 0 1 0 0 1 1 1 1]\n",
      " [1 1 1 0 0 1 0 0 1 1 1 0 1 1 1 1 1 1 1 0 0 0 1 0 1 1 0 1 1 1 1 0 0 1 0 1\n",
      "  0 1 1 0 0 0 1 1 0 0 0 1 1 0 1 1 1 0 0 0 1 1 0 1 1 0 0 0 1 0 1 1 0 1 0 1\n",
      "  1 0 1 0 1 1 0 1 1 0 0 1 1 1 1 1 1 1 1 1 0 1 0 0 1 1 0 0]\n",
      " [0 1 1 1 0 0 1 1 1 0 1 1 0 1 0 1 1 1 1 0 0 1 0 0 1 0 1 0 0 0 0 0 1 0 0 0\n",
      "  1 0 1 0 0 0 1 0 0 1 0 1 1 0 0 0 0 0 1 1 1 1 1 0 1 0 0 1 1 1 0 1 1 0 1 0\n",
      "  1 0 1 0 1 1 1 1 0 0 0 0 1 0 0 0 0 1 0 0 1 0 0 0 0 0 0 0]\n",
      " [0 0 1 1 0 0 0 1 0 0 1 0 0 0 0 1 1 1 1 1 1 1 0 0 1 1 1 1 1 0 0 0 0 0 1 1\n",
      "  0 1 1 0 0 0 1 0 0 0 0 1 1 1 0 1 0 0 1 0 0 1 1 0 1 0 0 1 1 1 0 0 1 0 1 1\n",
      "  0 0 1 0 1 0 0 0 0 0 1 0 0 0 0 0 1 1 1 0 1 1 0 0 1 0 1 1]\n",
      " [0 1 1 1 1 0 1 0 0 0 0 0 0 0 0 1 0 1 0 1 1 0 1 0 0 0 1 1 0 0 1 0 1 0 1 1\n",
      "  1 0 0 0 0 0 0 0 1 0 1 1 0 1 1 0 1 0 0 1 1 1 0 1 1 0 0 0 1 0 1 0 1 1 1 0\n",
      "  1 0 1 1 1 1 0 1 0 0 1 1 0 1 0 0 1 1 0 1 1 1 1 1 0 1 1 0]]\n",
      "[[1 1 0 ... 1 1 0]\n",
      " [1 1 0 ... 1 1 0]\n",
      " [1 1 0 ... 1 1 0]\n",
      " ...\n",
      " [1 1 0 ... 0 1 0]\n",
      " [1 1 0 ... 0 1 0]\n",
      " [1 1 0 ... 1 1 0]]\n"
     ]
    },
    {
     "data": {
      "image/png": "[encoded data removed]",
      "text/plain": [
       "<Figure size 432x288 with 1 Axes>"
      ]
     },
     "metadata": {
      "needs_background": "light"
     },
     "output_type": "display_data"
    }
   ],
   "source": [
    "distorts = [\n",
    "            lambda eta: eta, \n",
    "#             lambda eta:0.3+0.4*eta,\n",
    "            lambda eta:stat.beta.cdf(eta,0.2,0.2),\n",
    "            lambda eta:stat.beta.cdf(eta,5.,5.),\n",
    "            lambda eta:stat.beta.cdf(eta,0.5,2),\n",
    "            lambda eta:stat.beta.cdf(eta,2,0.5),\n",
    "            lambda eta:stat.beta.cdf(eta,20,80)*0.25 +\n",
    "                       stat.beta.cdf(eta,80,20)*0.25 + \n",
    "                       stat.beta.cdf(eta,0.1,0.1)*0.5,\n",
    "            lambda eta:stat.beta.cdf(eta,30,10)*0.5 +\n",
    "                       stat.beta.cdf(eta,0.1,0.1)*0.5\n",
    "           ]\n",
    "\n",
    "num_annots = len(distorts)\n",
    "\n",
    "num_dp_per_annot = 100\n",
    "num_test = 5000\n",
    "data_dim = 64\n",
    "w_star = 2.*np.ones((data_dim))\n",
    "print(w_star)\n",
    "np.random.seed(100)\n",
    "x_all_train = 2*np.random.rand(num_annots, num_dp_per_annot, data_dim)-1\n",
    "eta_all_train = 1./(1+np.exp(-np.dot(x_all_train,w_star)))\n",
    "y_all_train = 2*(np.random.rand(*eta_all_train.shape)<eta_all_train) - 1\n",
    "print(x_all_train.shape)\n",
    "x_all_test = 2*np.random.rand(num_test, data_dim)-1\n",
    "eta_all_test = 1./(1+np.exp(-np.dot(x_all_test,w_star)))\n",
    "y_all_test = 2*(np.random.rand(*eta_all_test.shape)<eta_all_test) - 1\n",
    "\n",
    "print(y_all_test)\n",
    "eta_tilde_all_train = np.array([distorts[i](eta_all_train[i]) for i in range(num_annots)])\n",
    "y_tilde_all_train = 2*(np.random.rand(*eta_tilde_all_train.shape)<eta_tilde_all_train) - 1\n",
    "\n",
    "eta_tilde_all_test = np.array([distorts[i](eta_all_test) for i in range(num_annots)])\n",
    "y_tilde_all_test = 2*(np.random.rand(*eta_tilde_all_test.shape)<eta_tilde_all_test) - 1\n",
    "print(y_tilde_all_test.shape)\n",
    "\n",
    "j=0\n",
    "plt.scatter(x_all_train[j][:,0], x_all_train[j][:,1], c= y_all_train[j])\n",
    "\n",
    "print(np.sum(y_all_train[j]==+1))\n",
    "X_train_d = x_all_train\n",
    "Y_train_d = y_tilde_all_train\n",
    "Y_train_d = (Y_train_d + 1)//2\n",
    "X_test_d = []\n",
    "for i in range(num_annots):\n",
    "    X_test_d.append(x_all_test)\n",
    "X_test_d = np.array(X_test_d)\n",
    "Y_test_d = y_tilde_all_test\n",
    "Y_test_d = (Y_test_d + 1)//2\n",
    "print(Y_train_d)\n",
    "print(Y_test_d)\n",
    "#print(X_train_d[1])"
   ]
  },
  {
   "cell_type": "code",
   "execution_count": 9,
   "metadata": {},
   "outputs": [],
   "source": [
    "def accuracy_score(Y, Y_pred):\n",
    "    \"\"\"Function to calculate loss (Y_test[i] - Y_pred[i])**2\n",
    "       Y : 0 or 1 (labels)\n",
    "       Y_pred: 0 to 1(probablities)\"\"\"\n",
    "    loss = 0.0\n",
    "    for i in range(Y.shape[0]):\n",
    "        #print((Y[i] - Y_pred[i])**2)\n",
    "        loss = loss + ((Y[i] - Y_pred[i])**2)\n",
    "        \n",
    "        \n",
    "    #print(Y.shape[0])\n",
    "    return loss/(Y.shape[0])\n",
    "        "
   ]
  },
  {
   "cell_type": "code",
   "execution_count": 10,
   "metadata": {},
   "outputs": [
    {
     "data": {
      "text/plain": [
       "[0.1697665130211012,\n",
       " 0.1943933321638101,\n",
       " 0.12474420695913564,\n",
       " 0.13092115042736857,\n",
       " 0.15551269124871522,\n",
       " 0.24550069810582423,\n",
       " 0.21852051087087435]"
      ]
     },
     "execution_count": 10,
     "metadata": {},
     "output_type": "execute_result"
    }
   ],
   "source": [
    "#Baseline-1 -- separate Logistic Regression for all labellers\n",
    "w_list = []\n",
    "accuracy_list = []\n",
    "for i in range(num_annots):\n",
    "   \n",
    "    clf = LogisticRegression(solver='lbfgs').fit(X_train_d[i], Y_train_d[i])  #training \n",
    "    Y_pred = clf.predict_proba(X_test_d[i])[:,1]    # predicting eta(x) = P(1|x) for training samples\n",
    "    w_list.append(clf)\n",
    "    #print(Y_pred)\n",
    "    #print(Y_test_d[i])\n",
    "    #print(Y_pred)\n",
    "    accuracy_list.append(accuracy_score(Y_test_d[i],Y_pred))   # calculating accuracy\n",
    "accuracy_list\n",
    "#Y_test_distort[0].shape"
   ]
  },
  {
   "cell_type": "code",
   "execution_count": 11,
   "metadata": {},
   "outputs": [],
   "source": [
    "def sort(A,A_sum,labellers):\n",
    "    for i in range(labellers):\n",
    "        for j in range(len(A[i])):\n",
    "            min_index = j\n",
    "            for k in range(j,len(A[i])):\n",
    "                if(A_sum[k] < A_sum[min_index]):\n",
    "                    min_index = k\n",
    "            A[i][j],A[i][min_index] =  A[i][min_index],A[i][j]\n",
    "                    "
   ]
  },
  {
   "cell_type": "code",
   "execution_count": 12,
   "metadata": {},
   "outputs": [
    {
     "data": {
      "text/plain": [
       "(7, 100)"
      ]
     },
     "execution_count": 12,
     "metadata": {},
     "output_type": "execute_result"
    }
   ],
   "source": [
    "samples = 100    #no. of samples to be taken for creating the post-processing model\n",
    "random_indices = np.random.choice(5000,size = samples) \n",
    "#print(random_indices)\n",
    "test_data = X_test_d[0][random_indices]   #take random feature vectors from test-data\n",
    "#print(test_data)\n",
    "A = []  #A indicates P(Y|X ) given by logistic regression for each labeller separately\n",
    "\n",
    "# A[i][j] inidicates P(Y_ij = 1|X_j), prediction for the i_th labeller on test_data[j]\n",
    "for i in range(num_annots):\n",
    "    eta = w_list[i].predict_proba(test_data)[:,1]\n",
    "    A.append(eta)\n",
    "\n",
    "A = np.array(A)\n",
    "A_sum = np.sum(A,axis = 0)  \n",
    "#A_sum is  a 1d array of size samples. A_sum[i] = A_sum[0][i] + A_sum[1][i] + .... + A_sum[#labellers-1][i]\n",
    "sort(A,A_sum,num_annots)\n",
    "A_sum = np.sort(A_sum)\n",
    "#print(\"-------\")\n",
    "#print(A_sum)\n",
    "#print(A)\n",
    "u = list(range(num_annots)) # u is prediction after monotonic regression\n",
    "for i in range(num_annots):\n",
    "    iso =  IsotonicRegression(out_of_bounds = 'clip').fit(A_sum,A[i])\n",
    "    u[i] = iso.predict(A_sum)\n",
    "\n",
    "\n",
    "u = np.array(u)\n",
    "u.shape\n",
    "#print(u)\n"
   ]
  },
  {
   "cell_type": "code",
   "execution_count": 13,
   "metadata": {},
   "outputs": [],
   "source": [
    "def project(a,b,c):     #a is target, b and c are points on the line\n",
    "    \"\"\" Projection of point 'a' on to the line joining the points 'b' and 'c' \"\"\"\n",
    "    v = a - b \n",
    "    #print(v)\n",
    "    d = (c-b)/np.linalg.norm(c-b)\n",
    "    #print(np.linalg.norm(d))\n",
    "    #print(d)\n",
    "    res = b + (np.dot(v,d))*d\n",
    "    return res"
   ]
  },
  {
   "cell_type": "code",
   "execution_count": 14,
   "metadata": {},
   "outputs": [
    {
     "name": "stdout",
     "output_type": "stream",
     "text": [
      "[[0.99660832 0.35199196 0.24711155 ... 0.2900035  0.85480785 0.91872639]\n",
      " [0.9947056  0.98843652 0.14788831 ... 0.43739086 0.95816078 0.04660508]\n",
      " [0.99872229 0.89901596 0.10841067 ... 0.77537424 0.89805205 0.53015523]\n",
      " ...\n",
      " [0.95297782 0.92561725 0.2199644  ... 0.44934466 0.9683209  0.06770053]\n",
      " [0.9910521  0.74727712 0.74739075 ... 0.73330898 0.60256922 0.0102834 ]\n",
      " [0.98796325 0.97011071 0.00301711 ... 0.02623384 0.71917519 0.00825282]]\n",
      "_____________\n",
      "[array([0.99204589, 0.5435273 , 0.11066328, ..., 0.41290811, 0.69984284,\n",
      "       0.46092968]), array([0.98517873, 0.86777122, 0.12715829, ..., 0.51953619, 0.9493654 ,\n",
      "       0.06758387]), array([0.83103114, 0.83103114, 0.50459139, ..., 0.79314124, 0.83103114,\n",
      "       0.20202338]), array([0.98912513, 0.98912513, 0.45649349, ..., 0.65292088, 1.00458986,\n",
      "       0.52569452]), array([0.70271512, 0.70271512, 0.41440734, ..., 0.41440734, 0.70271512,\n",
      "       0.49844767]), array([0.9971413 , 0.64351382, 0.58187722, ..., 0.6329714 , 0.76675837,\n",
      "       0.00891279]), array([0.99304577, 0.79401999, 0.47684315, ..., 0.47684315, 0.8633835 ,\n",
      "       0.39669037])]\n",
      "____________________\n",
      "[0.1507358604239808, 0.18352930489599908, 0.11849407810358084, 0.11990073001307394, 0.16218625084380642, 0.20475678982937576, 0.18614816725830605]\n"
     ]
    }
   ],
   "source": [
    "post_process_loss = list(range(num_annots))\n",
    "Y_prob_pred = list(range(num_annots))\n",
    "eta_hat = list(range(num_annots))    #logistic regression prediction for all the labellers\n",
    "for i in range(num_annots):\n",
    "    eta_hat[i] = w_list[i].predict_proba(X_test_d[i])[:,1]\n",
    "eta_hat = np.array(eta_hat)\n",
    "print(eta_hat)\n",
    "print(\"_____________\")\n",
    "for i in range(num_annots):   # for each labeller\n",
    "    temp_prob = []\n",
    "    for j in range(len(X_test_d[i])): \n",
    "        distance = float(\"inf\")\n",
    "        projection = None\n",
    "        for k in range(samples-1):\n",
    "            if(np.array_equal(u[:,k],u[:,k+1])):\n",
    "                continue\n",
    "            current_projection = project(eta_hat[:,j],u[:,k],u[:,k+1])  \n",
    "            #projection of eta_hat of current test vector on to the line joining points u[k] an u[k+1]\n",
    "            if(np.linalg.norm(current_projection - eta_hat[:,j]) <= distance): \n",
    "                distance = np.linalg.norm(current_projection - eta_hat[:,j])\n",
    "                projection = current_projection     \n",
    "        temp_prob.append(projection[i])\n",
    "        \n",
    "    Y_prob_pred[i] = np.array(temp_prob)\n",
    "    post_process_loss[i] = accuracy_score(Y_test_d[i],Y_prob_pred[i])\n",
    "    \n",
    "print(Y_prob_pred)  \n",
    "print(\"____________________\")\n",
    "print(post_process_loss)\n",
    "    \n",
    "        \n",
    "        "
   ]
  },
  {
   "cell_type": "code",
   "execution_count": 24,
   "metadata": {},
   "outputs": [
    {
     "data": {
      "text/plain": [
       "array([50., 50., 50., 50., 50.])"
      ]
     },
     "execution_count": 24,
     "metadata": {},
     "output_type": "execute_result"
    }
   ],
   "source": [
    "iso = IsotonicRegression(out_of_bounds = 'clip').fit(np.array([1,2,3,4,5]),np.array([10,20,30,40,50])) \n",
    "iso.predict(np.array([10,20,30,40,50]))"
   ]
  },
  {
   "cell_type": "code",
   "execution_count": 37,
   "metadata": {},
   "outputs": [
    {
     "name": "stdout",
     "output_type": "stream",
     "text": [
      "[[0.  0.2 0.4 0.6 1. ]\n",
      " [0.  0.2 0.8 0.4 1. ]]\n",
      "[[0.  0.2 0.6 0.4 1. ]\n",
      " [0.  0.2 0.4 0.8 1. ]]\n",
      "[array([0. , 0.2, 0.5, 0.5, 1. ]) array([0. , 0.2, 0.4, 0.8, 1. ]) 0 0]\n"
     ]
    }
   ],
   "source": [
    "A = np.array([[0,0.2,0.4,0.6,1],[0,0.2,0.8,0.4,1]])\n",
    "A_sum = np.sum(A,axis = 0)  \n",
    "#A_sum is  a 1d array of size samples. A_sum[i] = A_sum[0][i] + A_sum[1][i] + .... + A_sum[#labellers-1][i]\n",
    "print(A)\n",
    "sort(A,A_sum,2)\n",
    "#print(A_sum)\n",
    "print(A)\n",
    "u = [0,0,0,0] # u is prediction after monotonic regression\n",
    "for i in range(2):\n",
    "    iso =  IsotonicRegression(out_of_bounds = 'clip').fit(np.array([1,2,3,4,5]),A[i])\n",
    "    u[i] = iso.predict(np.array([1,2,3,4,5]))\n",
    "\n",
    "\n",
    "u = np.array(u)\n",
    "u.shape\n",
    "print(u)\n"
   ]
  },
  {
   "cell_type": "code",
   "execution_count": null,
   "metadata": {},
   "outputs": [],
   "source": []
  },
  {
   "cell_type": "code",
   "execution_count": null,
   "metadata": {},
   "outputs": [],
   "source": []
  }
 ],
 "metadata": {
  "kernelspec": {
   "display_name": "Python 3",
   "language": "python",
   "name": "python3"
  },
  "language_info": {
   "codemirror_mode": {
    "name": "ipython",
    "version": 3
   },
   "file_extension": ".py",
   "mimetype": "text/x-python",
   "name": "python",
   "nbconvert_exporter": "python",
   "pygments_lexer": "ipython3",
   "version": "3.7.3"
  }
 },
 "nbformat": 4,
 "nbformat_minor": 2
}
