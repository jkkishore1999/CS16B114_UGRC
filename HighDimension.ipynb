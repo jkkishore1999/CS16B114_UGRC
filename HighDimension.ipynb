{
 "cells": [
  {
   "cell_type": "code",
   "execution_count": 1,
   "metadata": {},
   "outputs": [],
   "source": [
    "import numpy as np\n",
    "import matplotlib.pyplot as plt\n",
    "from numpy import linalg as LA\n",
    "import scipy.stats as stat\n",
    "#from sklearn.metrics import accuracy_score\n",
    "from sklearn.linear_model import LogisticRegression\n",
    "from sklearn.isotonic import IsotonicRegression"
   ]
  },
  {
   "cell_type": "code",
   "execution_count": 42,
   "metadata": {},
   "outputs": [
    {
     "name": "stdout",
     "output_type": "stream",
     "text": [
      "46\n"
     ]
    },
    {
     "data": {
      "image/png": "[encoded data removed]",
      "text/plain": [
       "<Figure size 432x288 with 1 Axes>"
      ]
     },
     "metadata": {
      "needs_background": "light"
     },
     "output_type": "display_data"
    }
   ],
   "source": [
    "distorts = [\n",
    "            lambda eta: eta, \n",
    "#             lambda eta:0.3+0.4*eta,\n",
    "            lambda eta:stat.beta.cdf(eta,0.2,0.2),\n",
    "            lambda eta:stat.beta.cdf(eta,5.,5.),\n",
    "            lambda eta:stat.beta.cdf(eta,0.5,2),\n",
    "            lambda eta:stat.beta.cdf(eta,2,0.5),\n",
    "            lambda eta:stat.beta.cdf(eta,20,80)*0.25 +\n",
    "                       stat.beta.cdf(eta,80,20)*0.25 + \n",
    "                       stat.beta.cdf(eta,0.1,0.1)*0.5,\n",
    "            lambda eta:stat.beta.cdf(eta,30,10)*0.5 +\n",
    "                       stat.beta.cdf(eta,0.1,0.1)*0.5\n",
    "           ]\n",
    "\n",
    "num_annots = len(distorts)\n",
    "\n",
    "num_dp_per_annot = 100\n",
    "num_test = 5000\n",
    "data_dim = 64\n",
    "w_star = 2.*np.ones((data_dim))\n",
    "#print(w_star)\n",
    "np.random.seed(100)\n",
    "x_all_train = 2*np.random.rand(num_annots, num_dp_per_annot, data_dim)-1\n",
    "eta_all_train = 1./(1+np.exp(-np.dot(x_all_train,w_star)))\n",
    "y_all_train = 2*(np.random.rand(*eta_all_train.shape)<eta_all_train) - 1\n",
    "#print(x_all_train.shape)\n",
    "x_all_test = 2*np.random.rand(num_test, data_dim)-1\n",
    "eta_all_test = 1./(1+np.exp(-np.dot(x_all_test,w_star)))\n",
    "y_all_test = 2*(np.random.rand(*eta_all_test.shape)<eta_all_test) - 1\n",
    "\n",
    "#print(y_all_test)\n",
    "eta_tilde_all_train = np.array([distorts[i](eta_all_train[i]) for i in range(num_annots)])\n",
    "y_tilde_all_train = 2*(np.random.rand(*eta_tilde_all_train.shape)<eta_tilde_all_train) - 1\n",
    "\n",
    "eta_tilde_all_test = np.array([distorts[i](eta_all_test) for i in range(num_annots)])\n",
    "y_tilde_all_test = 2*(np.random.rand(*eta_tilde_all_test.shape)<eta_tilde_all_test) - 1\n",
    "#print(y_tilde_all_test.shape)\n",
    "\n",
    "j=0\n",
    "plt.scatter(x_all_train[j][:,0], x_all_train[j][:,1], c= y_all_train[j])\n",
    "\n",
    "print(np.sum(y_all_train[j]==+1))\n",
    "\n",
    "X_train_d = x_all_train\n",
    "Y_train_d = y_tilde_all_train\n",
    "Y_train_d = (Y_train_d + 1)//2\n",
    "X_test_d = []\n",
    "for i in range(num_annots):\n",
    "    X_test_d.append(x_all_test)\n",
    "X_test_d = np.array(X_test_d)\n",
    "Y_test_d = y_tilde_all_test\n",
    "Y_test_d = (Y_test_d + 1)//2\n",
    "#print(Y_train_d)\n",
    "#print(Y_test_d)\n",
    "#print(X_train_d[1])"
   ]
  },
  {
   "cell_type": "code",
   "execution_count": 43,
   "metadata": {},
   "outputs": [],
   "source": [
    "def accuracy_score(Y, Y_pred):\n",
    "    loss = 0.0\n",
    "    #print(Y.shape[0])\n",
    "    for i in range(Y.shape[0]):\n",
    "        loss = loss + ((Y[i]- Y_pred[i])**2)\n",
    "    return loss/(Y.shape[0])\n",
    "        "
   ]
  },
  {
   "cell_type": "code",
   "execution_count": 44,
   "metadata": {},
   "outputs": [
    {
     "data": {
      "text/plain": [
       "[0.1697665130211012,\n",
       " 0.1943933321638101,\n",
       " 0.12474420695913564,\n",
       " 0.13092115042736857,\n",
       " 0.15551269124871522,\n",
       " 0.24550069810582423,\n",
       " 0.21852051087087435]"
      ]
     },
     "execution_count": 44,
     "metadata": {},
     "output_type": "execute_result"
    }
   ],
   "source": [
    "#Baseline-1\n",
    "clf_list = []\n",
    "accuracy_list = []\n",
    "for i in range(X_train_d.shape[0]):\n",
    "    #Y_train_d[i] =Y_train_d[i].astype('int')\n",
    "    #Y_test_d[i] =Y_test_d[i].astype('int')\n",
    "    clf = LogisticRegression(solver='lbfgs').fit(X_train_d[i], Y_train_d[i])\n",
    "    Y_pred = clf.predict_proba(X_test_d[i])[:,1]\n",
    "    #print(Y_pred)\n",
    "    accuracy_list.append(accuracy_score(Y_test_d[i],Y_pred))\n",
    "accuracy_list\n",
    "#Y_test_distort[0].shape"
   ]
  },
  {
   "cell_type": "code",
   "execution_count": 45,
   "metadata": {},
   "outputs": [
    {
     "name": "stdout",
     "output_type": "stream",
     "text": [
      "[array([0, 0, 0, ..., 1, 1, 0], dtype=int32), array([1, 1, 1, ..., 1, 0, 0], dtype=int32), array([1, 1, 1, ..., 0, 0, 0], dtype=int32), array([1, 1, 1, ..., 1, 1, 1], dtype=int32), array([0, 0, 0, ..., 1, 1, 1], dtype=int32), array([0, 0, 0, ..., 1, 0, 0], dtype=int32), array([0, 0, 0, ..., 0, 1, 1], dtype=int32)]\n"
     ]
    }
   ],
   "source": [
    "Z_train = list(range(num_annots))\n",
    "Z_train_label = list(range(num_annots))\n",
    "for i in range(num_annots):\n",
    "    temp = []\n",
    "    temp_label = []\n",
    "    for j in range(len(X_train_d[i])):\n",
    "        for k in range(j+1,len(X_train_d[i])):\n",
    "            if(Y_train_d[i][j] != Y_train_d[i][k]):\n",
    "                temp.append(X_train_d[i][j]-X_train_d[i][k] )\n",
    "                temp_label.append((Y_train_d[i][j]- Y_train_d[i][k]+1)//2)\n",
    "    Z_train[i] = np.array(temp)\n",
    "    Z_train_label[i] = np.array(temp_label)\n",
    "\n",
    "print(Z_train_label)\n"
   ]
  },
  {
   "cell_type": "code",
   "execution_count": 46,
   "metadata": {},
   "outputs": [],
   "source": [
    "sr_clf_list = []\n",
    "sr_accuracy_list = []\n",
    "for i in range(num_annots):\n",
    "    #Z_train_label[i] =Z_train_label[i].astype('int')\n",
    "    #Y_test_d[i] =Y_test_d[i].astype('int')\n",
    "    clf = LogisticRegression(solver='lbfgs').fit(Z_train[i], Z_train_label[i])\n",
    "    sr_clf_list.append(clf)"
   ]
  },
  {
   "cell_type": "code",
   "execution_count": 47,
   "metadata": {},
   "outputs": [],
   "source": [
    "sr_probab = list(range(num_annots))\n",
    "iso_reg = list(range(num_annots))\n",
    "for i in range(num_annots):\n",
    "    sr_probab[i] = (sr_clf_list[i].predict_proba(X_train_d[i]))[:,1]\n",
    "    iso_reg[i] = IsotonicRegression(out_of_bounds = 'clip').fit(sr_probab[i],Y_train_d[i])\n",
    "    "
   ]
  },
  {
   "cell_type": "code",
   "execution_count": 48,
   "metadata": {},
   "outputs": [
    {
     "data": {
      "text/plain": [
       "[0.20605533632635775,\n",
       " 0.25126076237540235,\n",
       " 0.1540328809503813,\n",
       " 0.1572005034816159,\n",
       " 0.18672201640475536,\n",
       " 0.34192598557720905,\n",
       " 0.28881683308383627]"
      ]
     },
     "execution_count": 48,
     "metadata": {},
     "output_type": "execute_result"
    }
   ],
   "source": [
    "Y_pred_sr = list(range(num_annots))\n",
    "sr_accuracy_list = list(range(num_annots))\n",
    "for i in range(num_annots):\n",
    "    temp=  iso_reg[i].predict((sr_clf_list[i].predict_proba(X_test_d[i]))[:,1])\n",
    "    #print(max(temp))\n",
    "    sr_accuracy_list[i] = accuracy_score(Y_test_d[i],np.array(temp))\n",
    "sr_accuracy_list"
   ]
  },
  {
   "cell_type": "code",
   "execution_count": 49,
   "metadata": {},
   "outputs": [],
   "source": [
    "#Joint Ranking (Training Phase)\n",
    "Z_train = []\n",
    "Z_train_label = []\n",
    "temp  = []\n",
    "temp_label = []\n",
    "for i in range(num_annots):\n",
    "    for j in range(len(X_train_d[i])):\n",
    "        for k in range(j+1,len(X_train_d[i])):\n",
    "            if(Y_train_d[i][j] != Y_train_d[i][k]):\n",
    "                temp.append(X_train_d[i][j]-X_train_d[i][k] )\n",
    "                temp_label.append((Y_train_d[i][j]- Y_train_d[i][k] + 1)//2)\n",
    "Z_train = np.array(temp)\n",
    "Z_train_label = np.array(temp_label)\n",
    "                "
   ]
  },
  {
   "cell_type": "code",
   "execution_count": 50,
   "metadata": {},
   "outputs": [],
   "source": [
    "#Logistic Regression separately for each labeller on the transformed data\n",
    "jr_clf = 0\n",
    "jr_accuracy = 0\n",
    "#Z_train_label =Z_train_label.astype('int')\n",
    "jr_clf = LogisticRegression(solver='lbfgs').fit(Z_train, Z_train_label)"
   ]
  },
  {
   "cell_type": "code",
   "execution_count": 51,
   "metadata": {},
   "outputs": [],
   "source": [
    "jr_probab =list(range(num_annots))\n",
    "iso_reg = list(range(num_annots))\n",
    "for i in range(num_annots):\n",
    "    jr_probab[i] = (jr_clf.predict_proba(X_train_d[i]))[:,1]  # sigma(w^T(x))\n",
    "    iso_reg[i] = IsotonicRegression(out_of_bounds = 'clip').fit(jr_probab[i],Y_train_d[i]) #u_i(sigma(w^T(x)))\n",
    "    "
   ]
  },
  {
   "cell_type": "code",
   "execution_count": 52,
   "metadata": {},
   "outputs": [
    {
     "data": {
      "text/plain": [
       "[0.08859261868082262,\n",
       " 0.16663848073674709,\n",
       " 0.08689566727000152,\n",
       " 0.1030709641169246,\n",
       " 0.10466930364268341,\n",
       " 0.16017590113569494,\n",
       " 0.15853222356573596]"
      ]
     },
     "execution_count": 52,
     "metadata": {},
     "output_type": "execute_result"
    }
   ],
   "source": [
    "#Joint Raking Testing Phase\n",
    "Y_pred_jr = list(range(num_annots))\n",
    "jr_accuracy_list = list(range(num_annots))\n",
    "for i in range(num_annots):\n",
    "    temp=  iso_reg[i].predict((jr_clf.predict_proba(X_test_d[i]))[:,1]) #u_i(sigma(w^T(x)))\n",
    "    \n",
    "    jr_accuracy_list[i] = accuracy_score(Y_test_d[i],np.array(temp)) #loss calculation\n",
    "jr_accuracy_list"
   ]
  },
  {
   "cell_type": "code",
   "execution_count": 53,
   "metadata": {},
   "outputs": [
    {
     "name": "stdout",
     "output_type": "stream",
     "text": [
      "[ 0.05352153  0.11152167  0.00305189  0.00695525  0.0418033   0.0243759\n",
      "  0.07183205 -0.05315327  0.04010841  0.01792722  0.02628814  0.038767\n",
      "  0.03598909 -0.02094886  0.03193036 -0.01060811  0.01981986  0.07718948\n",
      "  0.04533716  0.02405771  0.05905105  0.02418937  0.0162568   0.04916241\n",
      "  0.05480215  0.04516358  0.05613333  0.07731082  0.00402232  0.00349591\n",
      "  0.06360415  0.01214581  0.04120302  0.01740303  0.04386756  0.0538132\n",
      "  0.08929145  0.00452706  0.03775612  0.01332855  0.01748072  0.02845961\n",
      "  0.02862033 -0.00248541  0.00130981 -0.01402818  0.00128325  0.02718407\n",
      "  0.01597217  0.06387097  0.04477538  0.08414711  0.06050114 -0.0191637\n",
      "  0.05645191  0.04557921  0.01874828  0.00659023  0.09092266  0.05273154\n",
      "  0.00346447 -0.00064086  0.09875155  0.01280955]\n",
      "[-0.01616776  0.02413482  0.05545933 -0.00293269  0.06688645  0.0447192\n",
      "  0.03445804  0.05667973  0.03139503  0.05463011  0.00525522  0.06933758\n",
      " -0.02279304 -0.0080008   0.04594958  0.03483112  0.01555076  0.02325537\n",
      "  0.01862304 -0.00404425 -0.01611706  0.0329718   0.0100688   0.05792216\n",
      "  0.03440774  0.02548107  0.04944575  0.02188889 -0.01312825  0.07523777\n",
      "  0.01949171  0.02376949 -0.01940145  0.06654043  0.00228558  0.05665262\n",
      "  0.01395043  0.05452778  0.07486351  0.02390817  0.0359314   0.05759811\n",
      "  0.02526763  0.04959574  0.04848271  0.02291903  0.02882651  0.03324181\n",
      "  0.04675315 -0.012473    0.00941144 -0.00962239 -0.01687693 -0.03328966\n",
      "  0.02128878  0.10429378  0.05163001 -0.00867791 -0.04204216  0.03725387\n",
      "  0.02228702  0.02022434  0.05666643  0.02826676]\n",
      "[ 0.02712793  0.02209513  0.01491181  0.04176603  0.00057022  0.02541533\n",
      "  0.05054806  0.04697668  0.05692211  0.03804763  0.04338332  0.00159631\n",
      "  0.04171429 -0.03995216  0.0555338  -0.00737386  0.01543617  0.07384791\n",
      "  0.03745834  0.02371247  0.05434267  0.03125454  0.03241997  0.0321897\n",
      "  0.05639938  0.02116042  0.01852822  0.03544714  0.01729716  0.06689389\n",
      "  0.01807982 -0.01359175  0.01643138  0.05709168  0.07984846  0.0113341\n",
      "  0.0113678   0.03645339  0.02641703  0.05174342  0.00812294  0.0631579\n",
      "  0.04235578  0.02951602  0.0212792  -0.01547208  0.04894617  0.02141857\n",
      "  0.06105253 -0.01368191  0.03341287 -0.00189486  0.02031035  0.04224243\n",
      "  0.10553981  0.02065649  0.05392997  0.0887622   0.02052251  0.02017604\n",
      "  0.04171614  0.05192101  0.07164037  0.02892283]\n",
      "[ 0.03443279  0.00283666  0.00902544  0.0156939   0.04304314  0.00996064\n",
      "  0.00361922  0.06212508  0.01498256  0.00269043  0.01637406  0.04928459\n",
      "  0.05598625  0.06229156  0.02925842 -0.00038672  0.05462176 -0.00475427\n",
      "  0.0544813   0.07152764  0.01136767  0.00271178  0.00974031  0.03887454\n",
      "  0.05270456  0.03959111  0.05106986  0.03623638  0.03212998  0.036521\n",
      " -0.00447283  0.02649676  0.05190742  0.05488992  0.05212483  0.0428469\n",
      "  0.04421584  0.01718905 -0.00199249  0.07846597  0.10603694  0.03348501\n",
      "  0.03871881  0.04205575  0.05629859  0.01946803  0.05695025 -0.00107094\n",
      " -0.00638602  0.04565243 -0.00130329  0.0394133   0.00261     0.05023987\n",
      " -0.01022483  0.07042843  0.06877932  0.07228268  0.0001091   0.03576254\n",
      " -0.01740541 -0.01451191  0.06325089  0.0129235 ]\n",
      "[-0.00316254  0.0221137   0.08674279  0.03090145  0.03596592  0.03851579\n",
      "  0.07290925  0.02535362  0.02888416  0.05302823 -0.02042147  0.07706062\n",
      " -0.00880703  0.03236695  0.02634175 -0.03852055 -0.03187417  0.0749472\n",
      "  0.04759489  0.01540211  0.0200617   0.06479099  0.03298619  0.01324353\n",
      " -0.0259489   0.04002541  0.03571385  0.02142632  0.08593969  0.03433319\n",
      "  0.02043306 -0.00320065 -0.00221202  0.01182581  0.00804873  0.02125842\n",
      "  0.00716503 -0.00428123 -0.00584555  0.01820107  0.05195377  0.04674335\n",
      "  0.00373581  0.10469988 -0.00080701  0.02425337  0.06941707  0.05701305\n",
      "  0.03005822  0.02197237  0.00493633  0.0904467   0.0354444   0.02612226\n",
      "  0.0350903   0.03106489  0.0507154   0.01878722  0.03604888  0.05946626\n",
      "  0.03039237  0.06482784  0.01844099  0.05998068]\n",
      "[ 0.04994676  0.01230315 -0.00189307 -0.00357811  0.04895686  0.05068391\n",
      " -0.03730221  0.03802773  0.0210966   0.02009411 -0.0240176   0.05410862\n",
      "  0.02794847  0.02739001  0.0596996   0.04373453  0.06108038  0.08416271\n",
      "  0.05462854  0.10284104  0.06355601 -0.04036948  0.0105604   0.01218354\n",
      " -0.01085945  0.01127361  0.04116296 -0.02307715 -0.01518821 -0.05093863\n",
      "  0.04902214 -0.04857866  0.05849871  0.05549772  0.01226044  0.02442148\n",
      " -0.02467908  0.05973424  0.04004611  0.07384707  0.00321495  0.04218707\n",
      " -0.00484269  0.00031291  0.02991253 -0.06178461  0.05915537  0.03205692\n",
      "  0.03262233  0.03417846  0.04195086  0.08292209 -0.0312057  -0.00103582\n",
      " -0.01834092  0.08483258  0.06275633  0.0309737   0.08653746  0.04140538\n",
      " -0.0053363   0.04302068 -0.00228772  0.01092041]\n",
      "[ 0.04696946  0.05091482  0.03283687  0.03471283  0.04826416  0.03609091\n",
      "  0.02263809  0.00981155  0.0162143   0.05289992  0.02520436  0.04997622\n",
      " -0.00249799  0.09033509  0.06320575  0.03748393  0.02396279  0.02672214\n",
      " -0.01233944  0.01326273  0.05788936  0.01918902  0.01384899  0.02944387\n",
      "  0.02413197  0.02348204 -0.00888304  0.05694982  0.03940079 -0.01322888\n",
      "  0.06054971  0.02189177  0.005028    0.01683459  0.02213821  0.00823675\n",
      "  0.00281632 -0.00927568  0.09029067 -0.00101921  0.03309552  0.08641221\n",
      "  0.06255602  0.0199981   0.02872973  0.0237618   0.02953323 -0.01825453\n",
      "  0.04125436 -0.00030458  0.05016273 -0.00723227  0.0555944   0.00345983\n",
      "  0.01514854  0.01161941 -0.02202243  0.01688158  0.03516184  0.06935797\n",
      "  0.00933514  0.04358062  0.00321897  0.04224398]\n"
     ]
    }
   ],
   "source": [
    "#Separate Slisotron(Training Phase)\n",
    "T = 1000 # no. of iterations\n",
    "u = list(range(num_annots))   # distortion applied by each annotator\n",
    "w = []          #weight vector for each annotator\n",
    "for i in range(num_annots):\n",
    "    w.append(np.zeros(data_dim))   # Initialisation of w\n",
    "for i in range(num_annots):\n",
    "    for t in range(T):\n",
    "        temp = []\n",
    "        for x in X_train_d[i]:\n",
    "            temp.append(1/(1+np.exp(-(np.matmul(np.transpose(w[i]),x)))))  #(sigma(w_i^T(x)))\n",
    "        temp = np.array(temp)\n",
    "        u[i] = IsotonicRegression(out_of_bounds = 'clip').fit(temp,Y_train_d[i]) #updating u(Isotonic Regression)\n",
    "        iso_predict = u[i].predict(temp) #(u_i(sigma(w_i^T(x)))\n",
    "        sum1 = 0\n",
    "        for j in range(len(X_train_d[i])):\n",
    "            sum1 = sum1 + (Y_train_d[i][j] - iso_predict[j])*(X_train_d[i][j])\n",
    "        sum1 = sum1/len(X_train_d[i])\n",
    "        w[i] = w[i] + sum1  #updating w\n",
    "    print(w[i])\n",
    "    "
   ]
  },
  {
   "cell_type": "code",
   "execution_count": 55,
   "metadata": {},
   "outputs": [
    {
     "data": {
      "text/plain": [
       "[0.23219561651173218,\n",
       " 0.3092606797561974,\n",
       " 0.20597847576382436,\n",
       " 0.21191677735417574,\n",
       " 0.24139226888334925,\n",
       " 0.3600116081880635,\n",
       " 0.2871818230513943]"
      ]
     },
     "execution_count": 55,
     "metadata": {},
     "output_type": "execute_result"
    }
   ],
   "source": [
    "#Separate Slisotron(Testing Phase)\n",
    "sl_accuracy_list = list(range(num_annots))\n",
    "Y_pred_sl = list(range(num_annots))\n",
    "for i in range(num_annots):\n",
    "    pred_class = []\n",
    "    temp = []\n",
    "    for x in X_test_d[i]:\n",
    "        temp.append(1/(1+np.exp(-(np.matmul(np.transpose(w[i]),x)))))     #(sigma(w_i^T(x)))\n",
    "    temp = np.array(temp)\n",
    "    pred_prob = u[i].predict(temp)           #(u_i(sigma(w_i^T(x)))\n",
    "    sl_accuracy_list[i] = (accuracy_score(Y_test_d[i],np.array(pred_prob))) #loss calculation\n",
    "    \n",
    "sl_accuracy_list\n",
    "            \n",
    "        "
   ]
  },
  {
   "cell_type": "code",
   "execution_count": 56,
   "metadata": {},
   "outputs": [
    {
     "name": "stdout",
     "output_type": "stream",
     "text": [
      "[0.01643414 0.0137453  0.0205559  0.01418191 0.02412857 0.02928212\n",
      " 0.02788989 0.02498833 0.02094053 0.03013322 0.01245535 0.02115988\n",
      " 0.0097754  0.0179749  0.02280469 0.02354    0.01575201 0.02085876\n",
      " 0.02430101 0.0179748  0.02434109 0.01894277 0.01699073 0.02996512\n",
      " 0.01774193 0.01615647 0.01882274 0.02389316 0.00855401 0.01540917\n",
      " 0.02341877 0.00654729 0.01640593 0.03135612 0.02326987 0.01492352\n",
      " 0.01666247 0.01497868 0.03312851 0.03425917 0.01271029 0.03430489\n",
      " 0.01679263 0.02635554 0.02177652 0.00494939 0.02729883 0.01792863\n",
      " 0.01771189 0.01694485 0.02707903 0.01521105 0.00592969 0.0046387\n",
      " 0.01450758 0.03001599 0.02623347 0.01817308 0.01683202 0.02671331\n",
      " 0.01182475 0.02478047 0.02712374 0.00800298]\n"
     ]
    }
   ],
   "source": [
    "#Joint Slisotron (Training Phase)\n",
    "T = 100\n",
    "u = list(range(num_annots))\n",
    "w = 0           #same 'w' for all labellers\n",
    "for i in range(num_annots):\n",
    "    w = np.array(np.zeros(data_dim))\n",
    "for t in range(T):\n",
    "    sum1 = 0\n",
    "    for i in range(num_annots):\n",
    "        temp = []\n",
    "        for x in X_train_d[i]:\n",
    "            temp.append(1/(1+np.exp(-(np.matmul(np.transpose(w),x)))))   #calculating sigma(w_T(x))\n",
    "        temp = np.array(temp)\n",
    "        u[i] = IsotonicRegression(out_of_bounds = 'clip').fit(temp,Y_train_d[i])  # updating u_i using isotonic regression\n",
    "        \n",
    "        iso_predict = u[i].predict(temp)     # u_i(sigma(w_T(x)))\n",
    "        for j in range(len(X_train_d[i])):\n",
    "            sum1 = sum1 + (Y_train_d[i][j] - iso_predict[j])*(X_train_d[i][j])\n",
    "    sum1 = sum1/(len(X_train_d[0])*num_annots)\n",
    "    w = w + sum1  #updating 'w' considering all four labellers\n",
    "print(w)\n",
    "    "
   ]
  },
  {
   "cell_type": "code",
   "execution_count": 58,
   "metadata": {},
   "outputs": [
    {
     "data": {
      "text/plain": [
       "[0.10020757013524119,\n",
       " 0.16423171704918202,\n",
       " 0.08144830883820102,\n",
       " 0.1046989483741062,\n",
       " 0.11200696242345025,\n",
       " 0.15767312911152265,\n",
       " 0.15595176030150854]"
      ]
     },
     "execution_count": 58,
     "metadata": {},
     "output_type": "execute_result"
    }
   ],
   "source": [
    "sl_accuracy_list = list(range(num_annots))\n",
    "Y_pred_sl = list(range(num_annots))\n",
    "for i in range(num_annots):\n",
    "    pred_class = []\n",
    "    temp = []\n",
    "    for x in X_test_d[i]:\n",
    "        temp.append(1/(1+np.exp(-(np.matmul(np.transpose(w),x)))))\n",
    "    temp = np.array(temp)\n",
    "    pred_prob = u[i].predict(temp)\n",
    "    for j in range(len(X_test_d[i])):\n",
    "        if(pred_prob[i] >=0.5):\n",
    "            pred_class.append(1)\n",
    "        else:\n",
    "            pred_class.append(0)\n",
    "    pred_class = np.array(pred_class)\n",
    "    Y_pred_sl[i] = pred_class\n",
    "    sl_accuracy_list[i] = (accuracy_score(Y_test_d[i],np.array(pred_prob)))\n",
    "    \n",
    "sl_accuracy_list"
   ]
  },
  {
   "cell_type": "code",
   "execution_count": null,
   "metadata": {},
   "outputs": [],
   "source": []
  }
 ],
 "metadata": {
  "kernelspec": {
   "display_name": "Python 3",
   "language": "python",
   "name": "python3"
  },
  "language_info": {
   "codemirror_mode": {
    "name": "ipython",
    "version": 3
   },
   "file_extension": ".py",
   "mimetype": "text/x-python",
   "name": "python",
   "nbconvert_exporter": "python",
   "pygments_lexer": "ipython3",
   "version": "3.7.3"
  }
 },
 "nbformat": 4,
 "nbformat_minor": 2
}
